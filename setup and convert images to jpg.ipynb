{
 "cells": [
  {
   "cell_type": "markdown",
   "metadata": {},
   "source": [
    "Manually check installation of pillow using the instructions below, then run the code.\n",
    "Be sure to change the directory where the sample images are taken from."
   ]
  },
  {
   "cell_type": "markdown",
   "metadata": {},
   "source": [
    "Install pillow:\n",
    "https://pillow.readthedocs.io/en/stable/installation.html"
   ]
  },
  {
   "cell_type": "markdown",
   "metadata": {},
   "source": [
    "```bash\n",
    "python3 -m pip install --upgrade pip\n",
    "python3 -m pip install --upgrade Pillow\n",
    "\n",
    "```"
   ]
  },
  {
   "cell_type": "markdown",
   "metadata": {},
   "source": [
    "Check Pillow data:\n",
    "```bash\n",
    "python3 -m pip show pillow\n",
    "\n",
    "#result:\n",
    "Name: Pillow\n",
    "Version: 7.1.1\n",
    "Summary: Python Imaging Library (Fork)\n",
    "Home-page: https://python-pillow.org\n",
    "Author: Alex Clark (PIL Fork Author)\n",
    "Author-email: aclark@python-pillow.org\n",
    "License: HPND\n",
    "Location: /Users/wandalcooper/Library/Python/3.7/lib/python/site-packages\n",
    "Requires: \n",
    "Required-by: PyScreeze, MouseInfo\n",
    "```"
   ]
  },
  {
   "cell_type": "code",
   "execution_count": 1,
   "metadata": {},
   "outputs": [],
   "source": [
    "from PIL import Image\n",
    "from pathlib import Path\n",
    "from itertools import tee\n",
    "from os import path\n",
    "\n",
    "SAMPLE_DIR = \"./samples\"\n",
    "SAVE_TO_DIR = \"./jpg\"\n",
    "# SAVE_TO_DIR = \"./black_and_white_jpg\"\n"
   ]
  },
  {
   "cell_type": "code",
   "execution_count": 2,
   "metadata": {},
   "outputs": [],
   "source": [
    "def check_format(img):\n",
    "    return Image.open(img).format"
   ]
  },
  {
   "cell_type": "code",
   "execution_count": 3,
   "metadata": {},
   "outputs": [],
   "source": [
    "def save_as_jpg(img, save_to):\n",
    "#     RGB = \"RGB\"\n",
    "    BW = \"L\"\n",
    "    old = str(img) #img is a path\n",
    "    old_name = str(img.name)\n",
    "    new_name = old_name.rstrip(str(img.suffix))\n",
    "    new_img = Image.open(img).convert(BW)\n",
    "    name = path.join(save_to, new_name+\".jpg\")\n",
    "    new_img.save(name)"
   ]
  },
  {
   "cell_type": "code",
   "execution_count": 4,
   "metadata": {},
   "outputs": [],
   "source": [
    "# examine file contents, tee returns 2 gens\n",
    "gen, image_paths = tee(Path(SAMPLE_DIR).iterdir())\n",
    "\n",
    "# print(im.format, im.size, im.mode)\n",
    "# formats = set([check_format(img) for img in image_paths])\n",
    "# formats\n",
    "\n",
    "# tee original gen after consuming one from the format check\n",
    "# new_gen, gen = tee(gen)"
   ]
  },
  {
   "cell_type": "code",
   "execution_count": 5,
   "metadata": {},
   "outputs": [
    {
     "name": "stderr",
     "output_type": "stream",
     "text": [
      "/Users/wandalcooper/Library/Python/3.7/lib/python/site-packages/PIL/Image.py:2800: DecompressionBombWarning: Image size (141812970 pixels) exceeds limit of 89478485 pixels, could be decompression bomb DOS attack.\n",
      "  DecompressionBombWarning,\n"
     ]
    }
   ],
   "source": [
    "for img in image_paths:\n",
    "    save_as_jpg(img, SAVE_TO_DIR)  # regardless of image type, save as jpg"
   ]
  }
 ],
 "metadata": {
  "kernelspec": {
   "display_name": "Python 3",
   "language": "python",
   "name": "python3"
  },
  "language_info": {
   "codemirror_mode": {
    "name": "ipython",
    "version": 3
   },
   "file_extension": ".py",
   "mimetype": "text/x-python",
   "name": "python",
   "nbconvert_exporter": "python",
   "pygments_lexer": "ipython3",
   "version": "3.7.3"
  }
 },
 "nbformat": 4,
 "nbformat_minor": 4
}
