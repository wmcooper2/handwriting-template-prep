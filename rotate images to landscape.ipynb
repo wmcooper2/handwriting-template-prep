{
 "cells": [
  {
   "cell_type": "markdown",
   "metadata": {},
   "source": [
    "Make sure you have opencv installed:\n",
    "https://pypi.org/project/opencv-python/  \n",
    "Use template matching to identify orientation:\n",
    "https://stackoverflow.com/questions/7853628/how-do-i-find-an-image-contained-within-an-image  \n",
    "Rotate an image in pillow: https://pythonexamples.org/python-pillow-rotate-image-90-180-270-degrees/"
   ]
  },
  {
   "cell_type": "code",
   "execution_count": 1,
   "metadata": {},
   "outputs": [],
   "source": [
    "from PIL import Image\n",
    "from pathlib import Path\n",
    "from itertools import tee\n",
    "from os import path\n",
    "import cv2"
   ]
  },
  {
   "cell_type": "code",
   "execution_count": 2,
   "metadata": {},
   "outputs": [],
   "source": [
    "# image dirs\n",
    "rotated = \"./rotated\"\n",
    "samples = \"./jpg\""
   ]
  },
  {
   "cell_type": "code",
   "execution_count": 3,
   "metadata": {},
   "outputs": [],
   "source": [
    "def save(img, img_path):\n",
    "    old_name = str(img_path.name)\n",
    "    name = path.join(rotated, old_name)\n",
    "    img.save(name)"
   ]
  },
  {
   "cell_type": "code",
   "execution_count": 4,
   "metadata": {},
   "outputs": [
    {
     "name": "stderr",
     "output_type": "stream",
     "text": [
      "/Users/wandalcooper/Library/Python/3.7/lib/python/site-packages/PIL/Image.py:2800: DecompressionBombWarning: Image size (141812970 pixels) exceeds limit of 89478485 pixels, could be decompression bomb DOS attack.\n",
      "  DecompressionBombWarning,\n"
     ]
    }
   ],
   "source": [
    "# collect image paths\n",
    "gen, image_paths = tee(Path(samples).iterdir())\n",
    "\n",
    "for img_path in image_paths:\n",
    "    if img_path.suffix == \".jpg\":\n",
    "        actual_img = Image.open(img_path)\n",
    "        width = actual_img.size[0]\n",
    "        height = actual_img.size[1]\n",
    "\n",
    "#         # rotate to landscape if needed, don't yet know up or down (different step)\n",
    "        if width < height:\n",
    "            out = actual_img.rotate(90, expand=True)\n",
    "        save(out, img_path)"
   ]
  },
  {
   "cell_type": "code",
   "execution_count": null,
   "metadata": {},
   "outputs": [],
   "source": []
  }
 ],
 "metadata": {
  "kernelspec": {
   "display_name": "Python 3",
   "language": "python",
   "name": "python3"
  },
  "language_info": {
   "codemirror_mode": {
    "name": "ipython",
    "version": 3
   },
   "file_extension": ".py",
   "mimetype": "text/x-python",
   "name": "python",
   "nbconvert_exporter": "python",
   "pygments_lexer": "ipython3",
   "version": "3.7.3"
  }
 },
 "nbformat": 4,
 "nbformat_minor": 4
}
