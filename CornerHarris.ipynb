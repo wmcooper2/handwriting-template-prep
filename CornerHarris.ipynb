{
 "cells": [
  {
   "cell_type": "code",
   "execution_count": 1,
   "metadata": {},
   "outputs": [],
   "source": [
    "import cv2\n",
    "import numpy as np\n",
    "import matplotlib\n",
    "import matplotlib.pyplot as plt\n",
    "import statistics as stats\n",
    "from sklearn.preprocessing import normalize"
   ]
  },
  {
   "cell_type": "markdown",
   "metadata": {},
   "source": [
    "https://opencv-python-tutroals.readthedocs.io/en/latest/py_tutorials/py_feature2d/py_features_harris/py_features_harris.html"
   ]
  },
  {
   "cell_type": "code",
   "execution_count": 2,
   "metadata": {},
   "outputs": [
    {
     "data": {
      "text/plain": [
       "True"
      ]
     },
     "execution_count": 2,
     "metadata": {},
     "output_type": "execute_result"
    }
   ],
   "source": [
    "#load image\n",
    "img = cv2.imread(\"BatchProcess/cleanCropped.jpg\")\n",
    "\n",
    "#convert to grayscale to feed it to CornerHarris\n",
    "gray = cv2.cvtColor(img, cv2.COLOR_BGR2GRAY)\n",
    "gray = np.float32(gray)\n",
    "\n",
    "# this value determines is a kernel size that how sensitive corner detection is\n",
    "#    must be between 3 and 31 and an odd value\n",
    "#    it is related to Sobel somehow\n",
    "sobel_operator_aperture = 23 # 23\n",
    "\n",
    "# this value determines the size of the neighborhood considered for corner detection\n",
    "block_size = 2 # 2\n",
    "\n",
    "# this value is a free parameter (hyperparameter)?\n",
    "k = 0.04 # 0.04\n",
    "\n",
    "corner_harris = cv2.cornerHarris(gray, block_size, sobel_operator_aperture, k)\n",
    "img[corner_harris > 0.01 * corner_harris.max()] = [0, 0, 255]\n",
    "\n",
    "#save\n",
    "cv2.imwrite(\"cornerHarrisResult.jpg\", img)\n",
    "# cv2.imwrite(\"cornerHarris.jpg\", corner_harris)"
   ]
  },
  {
   "cell_type": "markdown",
   "metadata": {},
   "source": [
    "\"cornerHarrisResult.jpg\"  \n",
    "![](cornerHarrisResult.jpg)"
   ]
  },
  {
   "cell_type": "code",
   "execution_count": 3,
   "metadata": {},
   "outputs": [
    {
     "data": {
      "text/plain": [
       "array([[ 7.70392941e+25,  7.70392941e+25,  2.26641844e+26, ...,\n",
       "        -1.69304568e+26, -2.12502765e+26, -2.50448364e+26],\n",
       "       [ 7.70392941e+25,  7.70392941e+25,  2.26641844e+26, ...,\n",
       "        -1.69304568e+26, -2.12502765e+26, -2.50448364e+26],\n",
       "       [ 1.75772863e+26,  1.75772863e+26, -8.29137022e+26, ...,\n",
       "        -1.32287711e+27, -1.75762275e+27, -2.01174878e+27],\n",
       "       ...,\n",
       "       [ 5.04488714e+26,  5.04488714e+26, -2.37850193e+27, ...,\n",
       "        -4.15067617e+21, -4.76063357e+21, -4.94815614e+21],\n",
       "       [-5.53184651e+24, -5.53184651e+24, -1.10311234e+27, ...,\n",
       "        -2.06034870e+21, -2.26834055e+21, -2.30544134e+21],\n",
       "       [ 2.29076003e+25,  2.29076003e+25,  1.93532872e+26, ...,\n",
       "         1.94757409e+20, -1.15822555e+19, -1.45563755e+20]], dtype=float32)"
      ]
     },
     "execution_count": 3,
     "metadata": {},
     "output_type": "execute_result"
    }
   ],
   "source": [
    "corner_harris"
   ]
  },
  {
   "cell_type": "code",
   "execution_count": 4,
   "metadata": {},
   "outputs": [
    {
     "name": "stdout",
     "output_type": "stream",
     "text": [
      "CornerHarris results\n",
      "Length:  640\n",
      "Length of first element:  1152\n",
      "Shape:  (640, 1152)\n",
      "First element:  [7.7039294e+25 7.7039294e+25 2.2664184e+26] ...\n"
     ]
    }
   ],
   "source": [
    "# convenience var\n",
    "ch = corner_harris\n",
    "print(\"CornerHarris results\")\n",
    "print(\"Length: \", len(ch))\n",
    "print(\"Length of first element: \", len(ch[0]))\n",
    "print(\"Shape: \", ch.shape)\n",
    "print(\"First element: \", ch[0][:3], \"...\")"
   ]
  },
  {
   "cell_type": "code",
   "execution_count": 5,
   "metadata": {},
   "outputs": [
    {
     "data": {
      "text/plain": [
       "(640, 1152, 3)"
      ]
     },
     "execution_count": 5,
     "metadata": {},
     "output_type": "execute_result"
    }
   ],
   "source": [
    "# original image info\n",
    "img.shape #this matches the corner harris shape's x and y (no channel)"
   ]
  },
  {
   "cell_type": "markdown",
   "metadata": {},
   "source": [
    "# Try to find the horizontal lines"
   ]
  },
  {
   "cell_type": "code",
   "execution_count": null,
   "metadata": {},
   "outputs": [],
   "source": []
  }
 ],
 "metadata": {
  "kernelspec": {
   "display_name": "Python 3",
   "language": "python",
   "name": "python3"
  },
  "language_info": {
   "codemirror_mode": {
    "name": "ipython",
    "version": 3
   },
   "file_extension": ".py",
   "mimetype": "text/x-python",
   "name": "python",
   "nbconvert_exporter": "python",
   "pygments_lexer": "ipython3",
   "version": "3.7.3"
  }
 },
 "nbformat": 4,
 "nbformat_minor": 4
}
