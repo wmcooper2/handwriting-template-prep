{
 "cells": [
  {
   "cell_type": "markdown",
   "metadata": {},
   "source": [
    "Find and draw largest contour:  \n",
    "https://stackoverflow.com/questions/44588279/find-and-draw-the-largest-contour-in-opencv-on-a-specific-color-python  \n",
    "\n",
    "Straighten a crooked image:  \n",
    "https://stackoverflow.com/questions/41995916/opencv-straighten-an-image-with-python  \n",
    "\n",
    "Find all bounding boxes:  \n",
    "https://stackoverflow.com/questions/21104664/extract-all-bounding-boxes-using-opencv-python  \n",
    "\n",
    "Deskew images (This one has been the most helpful, the others...no):  \n",
    "https://www.pyimagesearch.com/2017/02/20/text-skew-correction-opencv-python/  \n"
   ]
  },
  {
   "cell_type": "code",
   "execution_count": 1,
   "metadata": {},
   "outputs": [],
   "source": [
    "from PIL import Image\n",
    "from pathlib import Path\n",
    "from itertools import tee\n",
    "from os import path\n",
    "import cv2\n",
    "import numpy as np\n",
    "\n",
    "rotated = \"./rotated\"\n",
    "\n",
    "test = \"./rotated/small.jpg\""
   ]
  },
  {
   "cell_type": "code",
   "execution_count": 2,
   "metadata": {},
   "outputs": [],
   "source": [
    "def load(img):\n",
    "    # load the image from disk\n",
    "    image = cv2.imread(str(img))\n",
    "\n",
    "    # convert to grayscale, flip foreground and background\n",
    "    # foreground is now \"white\" and the background is \"black\"\n",
    "    gray = cv2.cvtColor(image, cv2.COLOR_BGR2GRAY)\n",
    "    gray = cv2.bitwise_not(gray)\n",
    "\n",
    "    # threshold the image, setting all foreground pixels to 255 and all background pixels to 0\n",
    "#     thresh = cv2.threshold(gray, 0, 255, cv2.THRESH_BINARY | cv2.THRESH_OTSU)[1]\n",
    "    return image, cv2.threshold(gray, 0, 255, cv2.THRESH_BINARY | cv2.THRESH_OTSU)[1]"
   ]
  },
  {
   "cell_type": "code",
   "execution_count": 3,
   "metadata": {},
   "outputs": [],
   "source": [
    "def rotate(image, angle):\n",
    "    # rotate the image to deskew it\n",
    "    (h, w) = image.shape[:2]\n",
    "    center = (w // 2, h // 2)\n",
    "    M = cv2.getRotationMatrix2D(center, angle, 1.0)\n",
    "    rotated = cv2.warpAffine(image, M, (w, h), flags=cv2.INTER_CUBIC, borderMode=cv2.BORDER_REPLICATE)"
   ]
  },
  {
   "cell_type": "code",
   "execution_count": 7,
   "metadata": {},
   "outputs": [
    {
     "name": "stdout",
     "output_type": "stream",
     "text": [
      "rotated/alphabet00794.jpg, angle: 0.7862328886985779, score: 6181.6215527131035\n",
      "rotated/alphabet00793.jpg, angle: 0.23036132752895355, score: 530.6634122090181\n",
      "rotated/alphabet00787.jpg, angle: 0.3230677843093872, score: 1043.7279325857673\n",
      "rotated/alphabet00368.jpg, angle: 0.8541030883789062, score: 7294.920855783857\n",
      "rotated/alphabet00369.jpg, angle: 0.8538321852684021, score: 7290.294006002149\n",
      "rotated/alphabet00786.jpg, angle: -0.118072509765625, score: 139.4111756235361\n",
      "rotated/alphabet00792.jpg, angle: 0.31421688199043274, score: 987.3224892778953\n",
      "rotated/alphabet00009.jpg, angle: 0.050132401287555695, score: 25.132576588565158\n",
      "rotated/alphabet00790.jpg, angle: 0.31873056292533875, score: 1015.8917174270332\n",
      "rotated/alphabet00791.jpg, angle: 0.31863072514533997, score: 1015.2553900664518\n",
      "rotated/alphabet00785.jpg, angle: 0.15057988464832306, score: 226.74301660702278\n",
      "rotated/alphabet00008.jpg, angle: 0.029352344572544098, score: 8.615601319053589\n",
      "rotated/alphabet00005.jpg, angle: -0.4373626708984375, score: 1912.8610589541495\n",
      "rotated/alphabet00788.jpg, angle: 0.31863075494766235, score: 1015.2555799851725\n",
      "rotated/alphabet00367.jpg, angle: 0.865850031375885, score: 7496.9627683362105\n",
      "rotated/alphabet00366.jpg, angle: 0.8598868250846863, score: 7394.053519542219\n",
      "rotated/alphabet00789.jpg, angle: 0.31868070363998413, score: 1015.5739087247539\n",
      "rotated/alphabet00010.jpg, angle: -0.0189971923828125, score: 3.6089331842958927\n",
      "rotated/alphabet00004.jpg, angle: -0.1410369873046875, score: 198.91431787982583\n",
      "rotated/alphabet00006.jpg, angle: 0.044557809829711914, score: 19.853984168207717\n",
      "rotated/alphabet00364.jpg, angle: 0.4140993356704712, score: 1714.7825980272557\n",
      "rotated/alphabet00365.jpg, angle: 0.8534714579582214, score: 7284.135295493322\n",
      "rotated/alphabet00007.jpg, angle: 0.039143141359090805, score: 15.321855154577651\n",
      "rotated/alphabet00003.jpg, angle: 0.039149824529886246, score: 15.327087607208828\n",
      "rotated/alphabet00361.jpg, angle: 0.8602505922317505, score: 7400.310814350774\n",
      "rotated/alphabet00360.jpg, angle: 0.8654840588569641, score: 7490.62656135525\n",
      "rotated/alphabet00002.jpg, angle: 0.03425024822354317, score: 11.730795033743219\n",
      "rotated/alphabet00362.jpg, angle: 0.8609787225723267, score: 7412.843607222754\n",
      "rotated/alphabet00363.jpg, angle: 1.5732543468475342, score: 24751.292398746613\n",
      "rotated/alphabet00001.jpg, angle: 1.5732543468475342, score: 24751.292398746613\n"
     ]
    }
   ],
   "source": [
    "# collect image paths\n",
    "gen, image_paths = tee(Path(rotated).iterdir())\n",
    "for img_path in image_paths:\n",
    "    if img_path.suffix == \".jpg\":\n",
    "        image, thresh = load(img_path)\n",
    "        \n",
    "        # grab the (x, y) coordinates of all pixel values that\n",
    "        # are greater than zero, then use these coordinates to\n",
    "        # compute a rotated bounding box that contains all\n",
    "        # coordinates\n",
    "        coords = np.column_stack(np.where(thresh > 0))\n",
    "        angle = cv2.minAreaRect(coords)[-1]\n",
    "\n",
    "        # the `cv2.minAreaRect` function returns values in the\n",
    "        # range [-90, 0); as the rectangle rotates clockwise the\n",
    "        # returned angle trends to 0 -- in this special case we\n",
    "        # need to add 90 degrees to the angle\n",
    "        if angle < -45:\n",
    "            angle = -(90 + angle)\n",
    "        # otherwise, just take the inverse of the angle to make\n",
    "        # it positive\n",
    "        else:\n",
    "            angle = -angle\n",
    "        \n",
    "#         rotate(image, angle)\n",
    "\n",
    "        # exaggerate the angle to set a cutoff point\n",
    "#         score = (angle*100)*(angle*100)\n",
    "#         print(f\"{str(img_path)}, angle: {angle}, score: {score}\")\n",
    "        \n",
    "        \n",
    "        # draw the correction angle on the image so we can validate it\n",
    "        # cv2.putText(rotated, \"Angle: {:.2f} degrees\".format(angle), (10, 30), cv2.FONT_HERSHEY_SIMPLEX, 0.7, (0, 0, 255), 2)\n",
    "        # show the output image\n",
    "        # print(\"[INFO] angle: {:.3f}\".format(angle))\n",
    "        # cv2.imshow(\"Input\", image)\n",
    "        # cv2.imshow(\"Rotated\", rotated)\n",
    "        # cv2.waitKey(0)"
   ]
  },
  {
   "cell_type": "code",
   "execution_count": null,
   "metadata": {},
   "outputs": [],
   "source": []
  }
 ],
 "metadata": {
  "kernelspec": {
   "display_name": "Python 3",
   "language": "python",
   "name": "python3"
  },
  "language_info": {
   "codemirror_mode": {
    "name": "ipython",
    "version": 3
   },
   "file_extension": ".py",
   "mimetype": "text/x-python",
   "name": "python",
   "nbconvert_exporter": "python",
   "pygments_lexer": "ipython3",
   "version": "3.7.3"
  }
 },
 "nbformat": 4,
 "nbformat_minor": 4
}
