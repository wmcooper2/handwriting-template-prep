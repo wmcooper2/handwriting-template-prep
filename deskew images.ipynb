{
 "cells": [
  {
   "cell_type": "markdown",
   "metadata": {},
   "source": [
    "Find and draw largest contour:  \n",
    "https://stackoverflow.com/questions/44588279/find-and-draw-the-largest-contour-in-opencv-on-a-specific-color-python  \n",
    "\n",
    "Straighten a crooked image:  \n",
    "https://stackoverflow.com/questions/41995916/opencv-straighten-an-image-with-python  \n",
    "\n",
    "Find all bounding boxes:  \n",
    "https://stackoverflow.com/questions/21104664/extract-all-bounding-boxes-using-opencv-python  \n",
    "\n",
    "Deskew images (This one has been the most helpful, the others...no):  \n",
    "https://www.pyimagesearch.com/2017/02/20/text-skew-correction-opencv-python/  \n"
   ]
  },
  {
   "cell_type": "code",
   "execution_count": 1,
   "metadata": {},
   "outputs": [],
   "source": [
    "from pathlib import Path\n",
    "from itertools import tee\n",
    "from os import path\n",
    "import cv2\n",
    "import numpy as np\n",
    "\n",
    "IMG_SRC_DIR = \"./jpg\""
   ]
  },
  {
   "cell_type": "code",
   "execution_count": 2,
   "metadata": {},
   "outputs": [],
   "source": [
    "def load(img):\n",
    "    # load the image from disk\n",
    "    image = cv2.imread(str(img))\n",
    "\n",
    "    # convert to grayscale, flip foreground and background\n",
    "    # foreground is now \"white\" and the background is \"black\"\n",
    "    gray = cv2.cvtColor(image, cv2.COLOR_BGR2GRAY)\n",
    "    gray = cv2.bitwise_not(gray)\n",
    "\n",
    "    # threshold the image, setting all foreground pixels to 255 and all background pixels to 0\n",
    "    return image, cv2.threshold(gray, 0, 255, cv2.THRESH_BINARY | cv2.THRESH_OTSU)[1]"
   ]
  },
  {
   "cell_type": "code",
   "execution_count": 3,
   "metadata": {},
   "outputs": [],
   "source": [
    "def rotate(image, angle):\n",
    "    # rotate the image to deskew it\n",
    "    (h, w) = image.shape[:2]\n",
    "    center = (w // 2, h // 2)\n",
    "    M = cv2.getRotationMatrix2D(center, angle, 1.0)\n",
    "    return cv2.warpAffine(image, M, (w, h), flags=cv2.INTER_CUBIC, borderMode=cv2.BORDER_REPLICATE)\n"
   ]
  },
  {
   "cell_type": "code",
   "execution_count": 4,
   "metadata": {},
   "outputs": [],
   "source": [
    "def save(img, img_path, save_dir):\n",
    "    old_name = str(img_path.name)\n",
    "    name = path.join(save_dir, old_name)\n",
    "    cv2.imwrite(name, img)"
   ]
  },
  {
   "cell_type": "code",
   "execution_count": 5,
   "metadata": {},
   "outputs": [
    {
     "name": "stdout",
     "output_type": "stream",
     "text": [
      "Rotated:  jpg/alphabet00794.jpg\n",
      "Rotated:  jpg/alphabet00793.jpg\n",
      "Rotated:  jpg/alphabet00787.jpg\n",
      "Rotated:  jpg/alphabet00368.jpg\n",
      "jpg/alphabet00369.jpg, angle: 0.6902772188186646, score: 4764.826388200305\n",
      "Rotated:  jpg/alphabet00786.jpg\n",
      "Rotated:  jpg/alphabet00792.jpg\n",
      "Rotated:  jpg/alphabet00009.jpg\n",
      "Rotated:  jpg/alphabet00790.jpg\n",
      "Rotated:  jpg/alphabet00791.jpg\n",
      "Rotated:  jpg/alphabet00785.jpg\n",
      "Rotated:  jpg/alphabet00008.jpg\n",
      "Rotated:  jpg/alphabet00005.jpg\n",
      "Rotated:  jpg/alphabet00788.jpg\n",
      "Rotated:  jpg/alphabet00367.jpg\n",
      "Rotated:  jpg/alphabet00366.jpg\n",
      "Rotated:  jpg/alphabet00789.jpg\n",
      "Rotated:  jpg/alphabet00010.jpg\n",
      "Rotated:  jpg/alphabet00004.jpg\n",
      "Rotated:  jpg/alphabet00006.jpg\n",
      "Rotated:  jpg/alphabet00364.jpg\n",
      "Rotated:  jpg/alphabet00365.jpg\n",
      "Rotated:  jpg/alphabet00007.jpg\n",
      "Rotated:  jpg/alphabet00003.jpg\n",
      "Rotated:  jpg/alphabet00361.jpg\n",
      "Rotated:  jpg/alphabet00360.jpg\n",
      "Rotated:  jpg/alphabet00002.jpg\n",
      "Rotated:  jpg/alphabet00362.jpg\n",
      "Rotated:  jpg/alphabet00363.jpg\n",
      "Rotated:  jpg/alphabet00001.jpg\n",
      "Finished rotating images.\n"
     ]
    }
   ],
   "source": [
    "# collect image paths\n",
    "gen, image_paths = tee(Path(IMG_SRC_DIR).iterdir())\n",
    "for img_path in image_paths:\n",
    "    if img_path.suffix == \".jpg\":\n",
    "        image, thresh = load(img_path)\n",
    "        \n",
    "        # grab the (x, y) coordinates of all pixel values that\n",
    "        # are greater than zero, then use these coordinates to\n",
    "        # compute a rotated bounding box that contains all\n",
    "        # coordinates\n",
    "        coords = np.column_stack(np.where(thresh > 0))\n",
    "        angle = cv2.minAreaRect(coords)[-1]\n",
    "\n",
    "        # the `cv2.minAreaRect` function returns values in the\n",
    "        # range [-90, 0); as the rectangle rotates clockwise the\n",
    "        # returned angle trends to 0 -- in this special case we\n",
    "        # need to add 90 degrees to the angle\n",
    "        if angle < -45:\n",
    "            angle = -(90 + angle)\n",
    "            \n",
    "        # otherwise, just take the inverse of the angle to make it positive\n",
    "        else:\n",
    "            angle = -angle\n",
    "        \n",
    "        rotated_img = rotate(image, angle)\n",
    "        save(rotated_img, img_path, IMG_SRC_DIR)\n",
    "        \n",
    "        # exaggerate the angle to set a cutoff point\n",
    "        score = (angle*100)*(angle*100)\n",
    "        if score > 1000:\n",
    "            print(f\"{str(img_path)}, angle: {angle}, score: {score}\")\n",
    "        else:\n",
    "            print(\"Rotated: \", str(img_path))\n",
    "        \n",
    "        \n",
    "        \n",
    "        # draw the correction angle on the image so we can validate it\n",
    "        # cv2.putText(rotated, \"Angle: {:.2f} degrees\".format(angle), (10, 30), cv2.FONT_HERSHEY_SIMPLEX, 0.7, (0, 0, 255), 2)\n",
    "        # show the output image\n",
    "        # print(\"[INFO] angle: {:.3f}\".format(angle))\n",
    "        # cv2.imshow(\"Input\", image)\n",
    "        # cv2.imshow(\"Rotated\", rotated)\n",
    "        # cv2.waitKey(0)\n",
    "        \n",
    "print(\"Finished rotating images.\")"
   ]
  },
  {
   "cell_type": "code",
   "execution_count": null,
   "metadata": {},
   "outputs": [],
   "source": []
  }
 ],
 "metadata": {
  "kernelspec": {
   "display_name": "Python 3",
   "language": "python",
   "name": "python3"
  },
  "language_info": {
   "codemirror_mode": {
    "name": "ipython",
    "version": 3
   },
   "file_extension": ".py",
   "mimetype": "text/x-python",
   "name": "python",
   "nbconvert_exporter": "python",
   "pygments_lexer": "ipython3",
   "version": "3.7.3"
  }
 },
 "nbformat": 4,
 "nbformat_minor": 4
}
