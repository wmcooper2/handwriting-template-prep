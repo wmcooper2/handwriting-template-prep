{
 "cells": [
  {
   "cell_type": "markdown",
   "metadata": {},
   "source": [
    "Box detection algo, medium.com:  \n",
    "https://medium.com/coinmonks/a-box-detection-algorithm-for-any-image-containing-boxes-756c15d7ed26  \n",
    "https://github.com/KananVyas/BoxDetection\n",
    "\n",
    "\n"
   ]
  },
  {
   "cell_type": "code",
   "execution_count": null,
   "metadata": {},
   "outputs": [],
   "source": [
    "import cv2\n",
    "import numpy as np"
   ]
  },
  {
   "cell_type": "code",
   "execution_count": null,
   "metadata": {},
   "outputs": [],
   "source": [
    "# Read the image\n",
    "img = cv2.imread(img_for_box_extraction_path, 0)\n",
    " \n",
    "# Thresholding the image\n",
    "thresh, img_bin = cv2.threshold(img, 128, 255, cv2.THRESH_BINARY | cv2.THRESH_OTSU)\n",
    "# Invert the image\n",
    "img_bin = 255 - img_bin \n",
    "cv2.imwrite(test_img, img_bin)"
   ]
  },
  {
   "cell_type": "code",
   "execution_count": null,
   "metadata": {},
   "outputs": [],
   "source": [
    "# Defining a kernel length\n",
    "kernel_length = np.array(img).shape[1]//80\n",
    " \n",
    "# A verticle kernel of (1 X kernel_length), which will detect all the verticle lines from the image.\n",
    "verticle_kernel = cv2.getStructuringElement(cv2.MORPH_RECT, (1, kernel_length))\n",
    "\n",
    "# A horizontal kernel of (kernel_length X 1), which will help to detect all the horizontal line from the image.\n",
    "hori_kernel = cv2.getStructuringElement(cv2.MORPH_RECT, (kernel_length, 1))\n",
    "\n",
    "# A kernel of (3 X 3) ones.\n",
    "kernel = cv2.getStructuringElement(cv2.MORPH_RECT, (3, 3))"
   ]
  },
  {
   "cell_type": "code",
   "execution_count": null,
   "metadata": {},
   "outputs": [],
   "source": [
    "# Morphological operation to detect vertical lines from an image\n",
    "img_temp1 = cv2.erode(img_bin, verticle_kernel, iterations=3)\n",
    "verticle_lines_img = cv2.dilate(img_temp1, verticle_kernel, iterations=3)\n",
    "cv2.imwrite(\"verticle_lines.jpg\",verticle_lines_img)\n",
    "\n",
    "# Morphological operation to detect horizontal lines from an image\n",
    "img_temp2 = cv2.erode(img_bin, hori_kernel, iterations=3)\n",
    "horizontal_lines_img = cv2.dilate(img_temp2, hori_kernel, iterations=3)\n",
    "cv2.imwrite(\"horizontal_lines.jpg\",horizontal_lines_img)"
   ]
  },
  {
   "cell_type": "code",
   "execution_count": null,
   "metadata": {},
   "outputs": [],
   "source": [
    "# Weighting parameters, this will decide the quantity of an image to be added to make a new image.\n",
    "alpha = 0.5\n",
    "beta = 1.0 - alpha\n",
    "\n",
    "# This function helps to add two image with specific weight parameter to get a third image as summation of two image.\n",
    "img_final_bin = cv2.addWeighted(verticle_lines_img, alpha, horizontal_lines_img, beta, 0.0)\n",
    "img_final_bin = cv2.erode(~img_final_bin, kernel, iterations=2)\n",
    "(thresh, img_final_bin) = cv2.threshold(img_final_bin, 128,255, cv2.THRESH_BINARY | cv2.THRESH_OTSU)\n",
    "cv2.imwrite(\"img_final_bin.jpg\",img_final_bin)Thank"
   ]
  },
  {
   "cell_type": "code",
   "execution_count": null,
   "metadata": {},
   "outputs": [],
   "source": [
    "# Find contours for image, which will detect all the boxes\n",
    "im2, contours, hierarchy = cv2.findContours(img_final_bin, cv2.RETR_TREE, cv2.CHAIN_APPROX_SIMPLE)\n",
    "\n",
    "# Sort all the contours by top to bottom.\n",
    "(contours, boundingBoxes) = sort_contours(contours, method=\"top-to-bottom\")"
   ]
  },
  {
   "cell_type": "code",
   "execution_count": null,
   "metadata": {},
   "outputs": [],
   "source": [
    "idx = 0\n",
    "    for c in contours:\n",
    "        \n",
    "        # Returns the location and width,height for every contour\n",
    "        x, y, w, h = cv2.boundingRect(c)\n",
    "        if (w > 80 and h > 20) and w > 3*h:\n",
    "            idx += 1\n",
    "            new_img = img[y:y+h, x:x+w]\n",
    "            cv2.imwrite(cropped_dir_path+str(idx) + '.png', new_img)\n",
    "            \n",
    "        # If the box height is greater then 20, widht is >80, then only save it as a box in \"cropped/\" folder.\n",
    "        if (w > 80 and h > 20) and w > 3*h:\n",
    "            idx += 1\n",
    "            new_img = img[y:y+h, x:x+w]\n",
    "            cv2.imwrite(cropped_dir_path+str(idx) + '.png', new_img)"
   ]
  },
  {
   "cell_type": "code",
   "execution_count": null,
   "metadata": {},
   "outputs": [],
   "source": [
    "# import cv2\n",
    "# import numpy as npThank\n",
    "# def box_extraction(img_for_box_extraction_path, cropped_dir_path):\n",
    "# img = cv2.imread(img_for_box_extraction_path, 0)  # Read the image\n",
    "#     (thresh, img_bin) = cv2.threshold(img, 128, 255,\n",
    "#                                       cv2.THRESH_BINARY | cv2.THRESH_OTSU)  # Thresholding the image\n",
    "#     img_bin = 255-img_bin  # Invert the image\n",
    "# cv2.imwrite(\"Image_bin.jpg\",img_bin)\n",
    "   \n",
    "#     # Defining a kernel length\n",
    "#     kernel_length = np.array(img).shape[1]//40\n",
    "     \n",
    "#     # A verticle kernel of (1 X kernel_length), which will detect all the verticle lines from the image.\n",
    "#     verticle_kernel = cv2.getStructuringElement(cv2.MORPH_RECT, (1, kernel_length))\n",
    "#     # A horizontal kernel of (kernel_length X 1), which will help to detect all the horizontal line from the image.\n",
    "#     hori_kernel = cv2.getStructuringElement(cv2.MORPH_RECT, (kernel_length, 1))\n",
    "#     # A kernel of (3 X 3) ones.\n",
    "#     kernel = cv2.getStructuringElement(cv2.MORPH_RECT, (3, 3))\n",
    "# # Morphological operation to detect verticle lines from an image\n",
    "#     img_temp1 = cv2.erode(img_bin, verticle_kernel, iterations=3)\n",
    "#     verticle_lines_img = cv2.dilate(img_temp1, verticle_kernel, iterations=3)\n",
    "#     cv2.imwrite(\"verticle_lines.jpg\",verticle_lines_img)\n",
    "# # Morphological operation to detect horizontal lines from an image\n",
    "#     img_temp2 = cv2.erode(img_bin, hori_kernel, iterations=3)\n",
    "#     horizontal_lines_img = cv2.dilate(img_temp2, hori_kernel, iterations=3)\n",
    "#     cv2.imwrite(\"horizontal_lines.jpg\",horizontal_lines_img)\n",
    "# # Weighting parameters, this will decide the quantity of an image to be added to make a new image.\n",
    "#     alpha = 0.5\n",
    "#     beta = 1.0 - alpha\n",
    "#     # This function helps to add two image with specific weight parameter to get a third image as summation of two image.\n",
    "#     img_final_bin = cv2.addWeighted(verticle_lines_img, alpha, horizontal_lines_img, beta, 0.0)\n",
    "#     img_final_bin = cv2.erode(~img_final_bin, kernel, iterations=2)\n",
    "#     (thresh, img_final_bin) = cv2.threshold(img_final_bin, 128, 255, cv2.THRESH_BINARY | cv2.THRESH_OTSU)\n",
    "# # For Debugging\n",
    "#     # Enable this line to see verticle and horizontal lines in the image which is used to find boxes\n",
    "#     cv2.imwrite(\"img_final_bin.jpg\",img_final_bin)\n",
    "#     # Find contours for image, which will detect all the boxes\n",
    "#     im2, contours, hierarchy = cv2.findContours(\n",
    "#         img_final_bin, cv2.RETR_TREE, cv2.CHAIN_APPROX_SIMPLE)\n",
    "#     # Sort all the contours by top to bottom.\n",
    "#     (contours, boundingBoxes) = sort_contours(contours, method=\"top-to-bottom\")\n",
    "# idx = 0\n",
    "#     for c in contours:\n",
    "#         # Returns the location and width,height for every contour\n",
    "#         x, y, w, h = cv2.boundingRect(c)\n",
    "# # If the box height is greater then 20, widht is >80, then only save it as a box in \"cropped/\" folder.\n",
    "#         if (w > 80 and h > 20) and w > 3*h:\n",
    "#             idx += 1\n",
    "#             new_img = img[y:y+h, x:x+w]\n",
    "#             cv2.imwrite(cropped_dir_path+str(idx) + '.png', new_img)\n",
    "# box_extraction(\"41.jpg\", \"./Cropped/\")"
   ]
  }
 ],
 "metadata": {
  "kernelspec": {
   "display_name": "Python 3",
   "language": "python",
   "name": "python3"
  },
  "language_info": {
   "codemirror_mode": {
    "name": "ipython",
    "version": 3
   },
   "file_extension": ".py",
   "mimetype": "text/x-python",
   "name": "python",
   "nbconvert_exporter": "python",
   "pygments_lexer": "ipython3",
   "version": "3.7.3"
  }
 },
 "nbformat": 4,
 "nbformat_minor": 4
}
