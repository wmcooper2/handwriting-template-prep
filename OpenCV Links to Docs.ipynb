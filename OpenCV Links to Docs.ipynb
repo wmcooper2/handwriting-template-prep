{
 "cells": [
  {
   "cell_type": "markdown",
   "metadata": {},
   "source": [
    "# cv2.some_method()\n",
    "\n",
    "[.imread (filename: String, optional flag)](https://docs.opencv.org/master/d4/da8/group__imgcodecs.html#ga288b8b3da0892bd651fce07b3bbd3a56)  \n",
    "\n",
    "[.imwrite( )](https://docs.opencv.org/2.4/modules/highgui/doc/reading_and_writing_images_and_video.html?highlight=imwrite)  \n",
    "\n",
    "[.matchTemplate( )  &  .TM_SQDIFF_NORMED](https://docs.opencv.org/master/df/dfb/group__imgproc__object.html)  \n",
    "\n",
    "[.minmaxloc( )  tutorial](https://opencv-python-tutroals.readthedocs.io/en/latest/py_tutorials/py_imgproc/py_template_matching/py_template_matching.html)  \n",
    "\n",
    "[.minmaxloc( )  docs](https://docs.opencv.org/2.4/modules/core/doc/operations_on_arrays.html)  \n",
    "\n",
    "[.rotate( )](https://docs.opencv.org/trunk/da/d6e/tutorial_py_geometric_transformations.html)  \n",
    "\n",
    "[.ROTATE_180](https://docs.opencv.org/3.4/d2/de8/group__core__array.html#ga6f45d55c0b1cc9d97f5353a7c8a7aac2)  \n",
    "\n",
    "[.IMREAD_UNCHANGED](https://docs.opencv.org/master/d4/da8/group__imgcodecs.html#ga61d9b0126a3e57d9277ac48327799c80) \n",
    "\n",
    "[.resize( )](https://docs.opencv.org/trunk/da/d54/group__imgproc__transform.html#ga47a974309e9102f5f08231edc7e7529d)  \n",
    "\n",
    "[.INTER_AREA](https://docs.opencv.org/2.4/modules/imgproc/doc/geometric_transformations.html#void%20resize(InputArray%20src,%20OutputArray%20dst,%20Size%20dsize,%20double%20fx,%20double%20fy,%20int%20interpolation))  \n",
    "\n",
    "[.cvtColor( )  &  .COLOR_BGR2GRAY](https://docs.opencv.org/2.4/modules/imgproc/doc/miscellaneous_transformations.html#cvtcolor)  \n",
    "\n",
    "[.bitwise_not( )](https://docs.opencv.org/2.4/modules/core/doc/operations_on_arrays.html#bitwise-not)  \n",
    "\n",
    "[.threshold( )](https://docs.opencv.org/master/d7/d4d/tutorial_py_thresholding.html)  \n",
    "\n",
    "[.THRESH_BINARY  &  .THRESH_OTSU](https://opencv-python-tutroals.readthedocs.io/en/latest/py_tutorials/py_imgproc/py_thresholding/py_thresholding.html)  \n",
    "\n",
    "[.shape](https://opencv-python-tutroals.readthedocs.io/en/latest/py_tutorials/py_core/py_basic_ops/py_basic_ops.html#accessing-image-properties)  \n",
    "\n",
    "[.getRotationMatrix2D( )](https://opencv-python-tutroals.readthedocs.io/en/latest/py_tutorials/py_imgproc/py_geometric_transformations/py_geometric_transformations.html)  \n",
    "\n",
    "[.warpAffine( )](https://docs.opencv.org/2.4/modules/imgproc/doc/geometric_transformations.html?highlight=warpaffine#warpaffine)  \n",
    "\n",
    "[.INTER_CUBIC](https://docs.opencv.org/2.4/modules/imgproc/doc/geometric_transformations.html#geometric-image-transformations)  \n",
    "\n",
    "[.BORDER_REPLICATE](https://docs.opencv.org/3.4/dc/da3/tutorial_copyMakeBorder.html)  \n",
    "\n",
    "[.minAreaRect( )](https://docs.opencv.org/2.4/modules/imgproc/doc/structural_analysis_and_shape_descriptors.html?highlight=minarearect)\n",
    "\n",
    "[.putText( )](https://docs.opencv.org/2.4/modules/core/doc/drawing_functions.html)  \n",
    "\n",
    "[.imshow( )](https://docs.opencv.org/2.4/modules/highgui/doc/user_interface.html#void%20imshow(const%20string&%20winname,%20InputArray%20mat))  \n",
    "\n",
    "[.waitKey( )](https://docs.opencv.org/2.4/modules/highgui/doc/user_interface.html?highlight=waitkey#waitkey)"
   ]
  },
  {
   "cell_type": "code",
   "execution_count": null,
   "metadata": {},
   "outputs": [],
   "source": []
  }
 ],
 "metadata": {
  "kernelspec": {
   "display_name": "Python 3",
   "language": "python",
   "name": "python3"
  },
  "language_info": {
   "codemirror_mode": {
    "name": "ipython",
    "version": 3
   },
   "file_extension": ".py",
   "mimetype": "text/x-python",
   "name": "python",
   "nbconvert_exporter": "python",
   "pygments_lexer": "ipython3",
   "version": "3.7.3"
  }
 },
 "nbformat": 4,
 "nbformat_minor": 4
}
