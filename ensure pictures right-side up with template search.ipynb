{
 "cells": [
  {
   "cell_type": "markdown",
   "metadata": {},
   "source": [
    "Crop images with pillow:  \n",
    "https://pillow.readthedocs.io/en/stable/reference/Image.html#PIL.Image.Image.crop  \n",
    "https://www.geeksforgeeks.org/python-pil-image-crop-method/  \n",
    "\n",
    "Convert pillow image object to numpy array (ndarray):  \n",
    "https://stackoverflow.com/questions/384759/how-to-convert-a-pil-image-into-a-numpy-array  \n",
    "\n",
    "Calculating image similarity score:  \n",
    "https://answers.opencv.org/question/8890/calculating-a-template-matching-similarity-score/\n",
    "\n",
    "Convert pillow image to grayscale:  \n",
    "https://stackoverflow.com/questions/12201577/how-can-i-convert-an-rgb-image-into-grayscale-in-python"
   ]
  },
  {
   "cell_type": "code",
   "execution_count": 1,
   "metadata": {},
   "outputs": [],
   "source": [
    "from PIL import Image\n",
    "from pathlib import Path\n",
    "from itertools import tee\n",
    "from os import path\n",
    "import cv2\n",
    "import numpy as np\n",
    "\n",
    "rotated = \"./rotated\"\n"
   ]
  },
  {
   "cell_type": "code",
   "execution_count": 2,
   "metadata": {},
   "outputs": [],
   "source": [
    "def find_match(template, target):\n",
    "    #check for the small image in a specific location\n",
    "    method = cv2.TM_SQDIFF_NORMED  \n",
    "    small_img = np.array(template) # the thing I'm looking for\n",
    "    big_img = np.array(target)  # the area I'm looking for it in\n",
    "    # small_image = cv2.imread('small_image.png')\n",
    "    # large_image = cv2.imread('large_image.jpeg')  \n",
    "    # result = cv2.matchTemplate(small_image, large_image, method) \n",
    "    result = cv2.matchTemplate(small_img, big_img, method) \n",
    "\n",
    "\n",
    "    # #### We want the minimum squared difference\n",
    "    # image similarity score is maxVal\n",
    "    mn,maxVal,mnLoc,maxLoc = cv2.minMaxLoc(result)  \n",
    "\n",
    "    # #### Draw the rectangle:\n",
    "    # #### Extract the coordinates of our best match\n",
    "#     MPx,MPy = mnLoc  \n",
    "\n",
    "    # #### Step 2: Get the size of the template. This is the same size as the match.\n",
    "    # trows,tcols = small_image.shape[:2]  \n",
    "#     trows,tcols = small_img.shape[:2]  \n",
    "\n",
    "    # #### Step 3: Draw the rectangle on large_image\n",
    "    # cv2.rectangle(large_image, (MPx,MPy),(MPx+tcols,MPy+trows),(0,0,255),2)  \n",
    "#     cv2.rectangle(big_img, (MPx,MPy),(MPx+tcols,MPy+trows),(0,0,255),2)\n",
    "\n",
    "    # #### Display the original image with the rectangle around the match.\n",
    "    # cv2.imshow('output',large_image)  \n",
    "#     cv2.imshow('output',big_img) \n",
    "\n",
    "    # #### The image is only displayed if we call this\n",
    "    # cv2.waitKey(0)\n",
    "    \n",
    "    # exaggerate the values to make it easier to set a cutoff point\n",
    "    value = (maxVal*100)*(maxVal*100)\n",
    "    return value\n",
    "#     print(\" max val : \", value)\n"
   ]
  },
  {
   "cell_type": "code",
   "execution_count": 3,
   "metadata": {},
   "outputs": [],
   "source": [
    "def save(img, img_path):\n",
    "    old_name = str(img_path.name)\n",
    "    name = path.join(rotated, old_name)\n",
    "    img.save(name)"
   ]
  },
  {
   "cell_type": "code",
   "execution_count": 4,
   "metadata": {},
   "outputs": [
    {
     "name": "stderr",
     "output_type": "stream",
     "text": [
      "/Users/wandalcooper/Library/Python/3.7/lib/python/site-packages/PIL/Image.py:2800: DecompressionBombWarning: Image size (141812970 pixels) exceeds limit of 89478485 pixels, could be decompression bomb DOS attack.\n",
      "  DecompressionBombWarning,\n"
     ]
    },
    {
     "name": "stdout",
     "output_type": "stream",
     "text": [
      "rotated/alphabet00794.jpg 785\n",
      "rotated/alphabet00793.jpg 820\n",
      "rotated/alphabet00787.jpg 405\n",
      "rotated/alphabet00368.jpg 320\n",
      "rotated/alphabet00369.jpg 302\n",
      "rotated/alphabet00786.jpg 394\n",
      "rotated/alphabet00792.jpg 374\n",
      "rotated/alphabet00009.jpg 359\n",
      "rotated/alphabet00790.jpg 406\n",
      "rotated/alphabet00791.jpg 386\n",
      "rotated/alphabet00785.jpg 403\n",
      "rotated/alphabet00008.jpg 366\n",
      "rotated/alphabet00005.jpg 368\n",
      "rotated/alphabet00788.jpg 415\n",
      "rotated/alphabet00367.jpg 337\n",
      "rotated/alphabet00366.jpg 339\n",
      "rotated/alphabet00789.jpg 374\n",
      "rotated/alphabet00010.jpg 377\n",
      "rotated/alphabet00004.jpg 376\n",
      "rotated/alphabet00006.jpg 358\n",
      "rotated/alphabet00364.jpg 318\n",
      "rotated/alphabet00365.jpg 314\n",
      "rotated/alphabet00007.jpg 985\n",
      "rotated/alphabet00003.jpg 391\n",
      "rotated/alphabet00361.jpg 358\n",
      "rotated/alphabet00360.jpg 331\n",
      "rotated/alphabet00002.jpg 370\n",
      "rotated/alphabet00362.jpg 328\n",
      "rotated/alphabet00363.jpg 628\n",
      "rotated/alphabet00001.jpg 324\n"
     ]
    }
   ],
   "source": [
    "template = \"template.jpg\"\n",
    "template_img = Image.open(template)\n",
    "\n",
    "# cropping box\n",
    "left = 8500\n",
    "top = 8000\n",
    "right = left + 700\n",
    "bottom = top + 700\n",
    "\n",
    "# collect image paths\n",
    "gen, image_paths = tee(Path(rotated).iterdir())\n",
    "for img_path in image_paths:\n",
    "    if img_path.suffix == \".jpg\":\n",
    "        test = str(img_path)\n",
    "        test_img = Image.open(test)\n",
    "        cropped_img = test_img.crop((left, top, right, bottom))\n",
    "        score = round(find_match(template_img, cropped_img))\n",
    "        print(str(img_path), score)\n",
    "        # 600 points seems to be a good cutoff\n",
    "        \n",
    "        # flip and save in place\n",
    "        if score < 600:\n",
    "            out = test_img.rotate(180, expand=True)\n",
    "            save(out, img_path)"
   ]
  },
  {
   "cell_type": "code",
   "execution_count": null,
   "metadata": {},
   "outputs": [],
   "source": []
  }
 ],
 "metadata": {
  "kernelspec": {
   "display_name": "Python 3",
   "language": "python",
   "name": "python3"
  },
  "language_info": {
   "codemirror_mode": {
    "name": "ipython",
    "version": 3
   },
   "file_extension": ".py",
   "mimetype": "text/x-python",
   "name": "python",
   "nbconvert_exporter": "python",
   "pygments_lexer": "ipython3",
   "version": "3.7.3"
  }
 },
 "nbformat": 4,
 "nbformat_minor": 4
}
