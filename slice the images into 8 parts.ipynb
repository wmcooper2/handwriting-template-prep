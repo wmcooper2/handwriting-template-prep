{
 "cells": [
  {
   "cell_type": "markdown",
   "metadata": {},
   "source": [
    "# Goal\n",
    "slice the images into 8 parts based on a template, save them into 8 different dirs\n",
    "\n",
    "# Details\n",
    "1. all of them should be aligned within a tolerance that prevents cutting off important data\n",
    "2. The 8 categories are:\n",
    "    * Captial letters\n",
    "    * Lowercase letters\n",
    "    * Digits\n",
    "    * Punctuation\n",
    "    * Sentence 1\n",
    "    * Sentence 2\n",
    "    * Sentence 3\n",
    "    * Sentence 4"
   ]
  },
  {
   "cell_type": "code",
   "execution_count": 1,
   "metadata": {},
   "outputs": [],
   "source": [
    "from PIL import Image\n",
    "from pathlib import Path\n",
    "from itertools import tee\n",
    "from os import path\n",
    "import cv2\n",
    "import numpy as np"
   ]
  },
  {
   "cell_type": "code",
   "execution_count": 2,
   "metadata": {},
   "outputs": [],
   "source": [
    "class CroppingTemplate:\n",
    "    def __init__(self):\n",
    "        self.image_file = None  # posix path\n",
    "        self.img = None\n",
    "        self.counter = 1\n",
    "        self.dest_dir = \"./major_pieces\"\n",
    "        \n",
    "        # these are the box boundaries for each section\n",
    "        self.major_sections = [\n",
    "            {\"uppercase\": {\n",
    "                \"left\": 720,\n",
    "                \"top\": 700,\n",
    "                \"right\": 12560,\n",
    "                \"bottom\": 1900}\n",
    "            },\n",
    "            {\"lowercase\": {\n",
    "                \"left\": 720,\n",
    "                \"top\": 1900,\n",
    "                \"right\": 12560,\n",
    "                \"bottom\": 3100}\n",
    "            },\n",
    "            {\"digits\": {\n",
    "                \"left\": 720,\n",
    "                \"top\": 3100,\n",
    "                \"right\": 5520,\n",
    "                \"bottom\": 4360}\n",
    "            },\n",
    "            {\"punctuation\": {\n",
    "                \"left\": 5520,\n",
    "                \"top\": 3100,\n",
    "                \"right\": 12560,\n",
    "                \"bottom\": 4360}\n",
    "            },\n",
    "            {\"sent1\": {\n",
    "                \"left\": 720,\n",
    "                \"top\": 4360,\n",
    "                \"right\": 4140,\n",
    "                \"bottom\": 5860}\n",
    "            },\n",
    "            {\"sent2\": {\n",
    "                \"left\": 5520,\n",
    "                \"top\": 4360,\n",
    "                \"right\": 10800,\n",
    "                \"bottom\": 5860}\n",
    "            },\n",
    "            {\"sent3\": {\n",
    "                \"left\": 720,\n",
    "                \"top\": 5860,\n",
    "                \"right\": 4140,\n",
    "                \"bottom\": 7300}\n",
    "            },\n",
    "            {\"sent4\": {\n",
    "                \"left\": 5520,\n",
    "                \"top\": 5860,\n",
    "                \"right\": 10800,\n",
    "                \"bottom\": 7300}\n",
    "            }\n",
    "        ]\n",
    "\n",
    "    def load(self):\n",
    "        self.img = Image.open(str(self.image_file))\n",
    "\n",
    "    def crop_all2(self):\n",
    "        for section in self.major_sections:\n",
    "            for dir_name, box in section.items():\n",
    "                cropped_img = self.img.crop((box[\"left\"], box[\"top\"], box[\"right\"], box[\"bottom\"]))\n",
    "                file_name = path.join(self.dest_dir, dir_name, str(self.counter)+\".jpg\")\n",
    "                cropped_img.save(file_name)\n",
    "        print(\"Finished: \", self.counter)\n",
    "        self.counter += 1"
   ]
  },
  {
   "cell_type": "code",
   "execution_count": 3,
   "metadata": {},
   "outputs": [
    {
     "name": "stderr",
     "output_type": "stream",
     "text": [
      "/Users/wandalcooper/Library/Python/3.7/lib/python/site-packages/PIL/Image.py:2800: DecompressionBombWarning: Image size (141812970 pixels) exceeds limit of 89478485 pixels, could be decompression bomb DOS attack.\n",
      "  DecompressionBombWarning,\n"
     ]
    },
    {
     "name": "stdout",
     "output_type": "stream",
     "text": [
      "Finished:  2\n",
      "Finished:  3\n",
      "Finished:  4\n",
      "Finished:  5\n",
      "Finished:  6\n",
      "Finished:  7\n",
      "Finished:  8\n",
      "Finished:  9\n",
      "Finished:  10\n",
      "Finished:  11\n",
      "Finished:  12\n",
      "Finished:  13\n",
      "Finished:  14\n",
      "Finished:  15\n",
      "Finished:  16\n",
      "Finished:  17\n",
      "Finished:  18\n",
      "Finished:  19\n",
      "Finished:  20\n",
      "Finished:  21\n",
      "Finished:  22\n",
      "Finished:  23\n",
      "Finished:  24\n",
      "Finished:  25\n",
      "Finished:  26\n",
      "Finished:  27\n",
      "Finished:  28\n",
      "Finished:  29\n",
      "Finished:  30\n",
      "Finished:  31\n"
     ]
    }
   ],
   "source": [
    "rotated = \"./rotated\"\n",
    "\n",
    "# collect image paths\n",
    "cropper = CroppingTemplate()\n",
    "gen, image_paths = tee(Path(rotated).iterdir())\n",
    "for img_path in image_paths:\n",
    "    if img_path.suffix == \".jpg\":\n",
    "        \n",
    "        # extract major sections from each image\n",
    "        cropper.image_file = img_path\n",
    "        cropper.load()\n",
    "        cropper.crop_all2()"
   ]
  },
  {
   "cell_type": "code",
   "execution_count": null,
   "metadata": {},
   "outputs": [],
   "source": []
  }
 ],
 "metadata": {
  "kernelspec": {
   "display_name": "Python 3",
   "language": "python",
   "name": "python3"
  },
  "language_info": {
   "codemirror_mode": {
    "name": "ipython",
    "version": 3
   },
   "file_extension": ".py",
   "mimetype": "text/x-python",
   "name": "python",
   "nbconvert_exporter": "python",
   "pygments_lexer": "ipython3",
   "version": "3.7.3"
  }
 },
 "nbformat": 4,
 "nbformat_minor": 4
}
