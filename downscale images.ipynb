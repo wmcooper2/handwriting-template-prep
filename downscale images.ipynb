{
 "cells": [
  {
   "cell_type": "markdown",
   "metadata": {},
   "source": [
    "Resize opencv image:  \n",
    "https://www.tutorialkart.com/opencv/python/opencv-python-resize-image/  \n",
    "\n"
   ]
  },
  {
   "cell_type": "code",
   "execution_count": 1,
   "metadata": {},
   "outputs": [],
   "source": [
    "from pathlib import Path\n",
    "from itertools import tee\n",
    "from os import path\n",
    "import cv2\n",
    "\n",
    "IMG_SRC_DIR = \"./jpg\"\n",
    "SCALE_PERCENT = 10 # percent of original size"
   ]
  },
  {
   "cell_type": "code",
   "execution_count": 2,
   "metadata": {},
   "outputs": [],
   "source": [
    "def save(img, img_path, src_dir):\n",
    "    old_name = str(img_path.name)\n",
    "    name = path.join(src_dir, old_name)\n",
    "    cv2.imwrite(name, img)"
   ]
  },
  {
   "cell_type": "code",
   "execution_count": 3,
   "metadata": {},
   "outputs": [
    {
     "name": "stdout",
     "output_type": "stream",
     "text": [
      "Resized:  jpg/alphabet00794.jpg\n",
      "Resized:  jpg/alphabet00793.jpg\n",
      "Resized:  jpg/alphabet00787.jpg\n",
      "Resized:  jpg/alphabet00368.jpg\n",
      "Resized:  jpg/alphabet00369.jpg\n",
      "Resized:  jpg/alphabet00786.jpg\n",
      "Resized:  jpg/alphabet00792.jpg\n",
      "Resized:  jpg/alphabet00009.jpg\n",
      "Resized:  jpg/alphabet00790.jpg\n",
      "Resized:  jpg/alphabet00791.jpg\n",
      "Resized:  jpg/alphabet00785.jpg\n",
      "Resized:  jpg/alphabet00008.jpg\n",
      "Resized:  jpg/alphabet00005.jpg\n",
      "Resized:  jpg/alphabet00788.jpg\n",
      "Resized:  jpg/alphabet00367.jpg\n",
      "Resized:  jpg/alphabet00366.jpg\n",
      "Resized:  jpg/alphabet00789.jpg\n",
      "Resized:  jpg/alphabet00010.jpg\n",
      "Resized:  jpg/alphabet00004.jpg\n",
      "Resized:  jpg/alphabet00006.jpg\n",
      "Resized:  jpg/alphabet00364.jpg\n",
      "Resized:  jpg/alphabet00365.jpg\n",
      "Resized:  jpg/alphabet00007.jpg\n",
      "Resized:  jpg/alphabet00003.jpg\n",
      "Resized:  jpg/alphabet00361.jpg\n",
      "Resized:  jpg/alphabet00360.jpg\n",
      "Resized:  jpg/alphabet00002.jpg\n",
      "Resized:  jpg/alphabet00362.jpg\n",
      "Resized:  jpg/alphabet00363.jpg\n",
      "Resized:  jpg/alphabet00001.jpg\n",
      "Done resizing images\n"
     ]
    }
   ],
   "source": [
    "# collect image paths\n",
    "gen, image_paths = tee(Path(IMG_SRC_DIR).iterdir())\n",
    "for img_path in image_paths:\n",
    "    if img_path.suffix == \".jpg\":\n",
    "        test = str(img_path)\n",
    "        img = cv2.imread(test, cv2.IMREAD_UNCHANGED)\n",
    "        \n",
    "        # calculate new size\n",
    "        width = int(img.shape[1] * SCALE_PERCENT / 100)\n",
    "        height = int(img.shape[0] * SCALE_PERCENT / 100)\n",
    "        new_size = (width, height)\n",
    "        \n",
    "        # resize image\n",
    "        resized = cv2.resize(img, new_size, interpolation = cv2.INTER_AREA)\n",
    "        save(resized, img_path, IMG_SRC_DIR)\n",
    "        print(\"Resized: \", str(img_path))\n",
    "print(\"Done resizing images\")"
   ]
  }
 ],
 "metadata": {
  "kernelspec": {
   "display_name": "Python 3",
   "language": "python",
   "name": "python3"
  },
  "language_info": {
   "codemirror_mode": {
    "name": "ipython",
    "version": 3
   },
   "file_extension": ".py",
   "mimetype": "text/x-python",
   "name": "python",
   "nbconvert_exporter": "python",
   "pygments_lexer": "ipython3",
   "version": "3.7.3"
  }
 },
 "nbformat": 4,
 "nbformat_minor": 4
}
