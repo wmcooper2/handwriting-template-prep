{
 "cells": [
  {
   "cell_type": "markdown",
   "metadata": {},
   "source": [
    "Purpose: Crops all images in place.  \n",
    "Reason: Remove the margin to lower file size and \"tighten up\" the images."
   ]
  },
  {
   "cell_type": "code",
   "execution_count": 1,
   "metadata": {},
   "outputs": [],
   "source": [
    "from pathlib import Path\n",
    "from itertools import tee\n",
    "from os import path\n",
    "import cv2\n",
    "\n",
    "IMG_SRC_DIR = \"./jpg\""
   ]
  },
  {
   "cell_type": "code",
   "execution_count": 2,
   "metadata": {},
   "outputs": [],
   "source": [
    "def save(img, img_path, save_dir):\n",
    "    old_name = str(img_path.name)\n",
    "    name = path.join(save_dir, old_name)\n",
    "    cv2.imwrite(name, img)"
   ]
  },
  {
   "cell_type": "code",
   "execution_count": 3,
   "metadata": {},
   "outputs": [
    {
     "name": "stdout",
     "output_type": "stream",
     "text": [
      "Cropped:  jpg/alphabet00794.jpg\n",
      "Cropped:  jpg/alphabet00793.jpg\n",
      "Cropped:  jpg/alphabet00787.jpg\n",
      "Cropped:  jpg/alphabet00368.jpg\n",
      "Cropped:  jpg/alphabet00369.jpg\n",
      "Cropped:  jpg/alphabet00786.jpg\n",
      "Cropped:  jpg/alphabet00792.jpg\n",
      "Cropped:  jpg/alphabet00009.jpg\n",
      "Cropped:  jpg/alphabet00790.jpg\n",
      "Cropped:  jpg/alphabet00791.jpg\n",
      "Cropped:  jpg/alphabet00785.jpg\n",
      "Cropped:  jpg/alphabet00008.jpg\n",
      "Cropped:  jpg/alphabet00005.jpg\n",
      "Cropped:  jpg/alphabet00788.jpg\n",
      "Cropped:  jpg/alphabet00367.jpg\n",
      "Cropped:  jpg/alphabet00366.jpg\n",
      "Cropped:  jpg/alphabet00789.jpg\n",
      "Cropped:  jpg/alphabet00010.jpg\n",
      "Cropped:  jpg/alphabet00004.jpg\n",
      "Cropped:  jpg/alphabet00006.jpg\n",
      "Cropped:  jpg/alphabet00364.jpg\n",
      "Cropped:  jpg/alphabet00365.jpg\n",
      "Cropped:  jpg/alphabet00007.jpg\n",
      "Cropped:  jpg/alphabet00003.jpg\n",
      "Cropped:  jpg/alphabet00361.jpg\n",
      "Cropped:  jpg/alphabet00360.jpg\n",
      "Cropped:  jpg/alphabet00002.jpg\n",
      "Cropped:  jpg/alphabet00362.jpg\n",
      "Cropped:  jpg/alphabet00363.jpg\n",
      "Cropped:  jpg/alphabet00001.jpg\n",
      "Done cropping\n"
     ]
    }
   ],
   "source": [
    "# cropping box to reduce search area for target template\n",
    "left = 850\n",
    "top = 710\n",
    "right = 12560\n",
    "bottom = 7300\n",
    "\n",
    "# collect image paths\n",
    "gen, image_paths = tee(Path(IMG_SRC_DIR).iterdir())\n",
    "for img_path in image_paths:\n",
    "    if img_path.suffix == \".jpg\":\n",
    "        file_name = str(img_path)\n",
    "        img = cv2.imread(file_name, 1) #1 is grayscale enum flag        \n",
    "        cropped_img = img[top:bottom, left:right]\n",
    "        save(cropped_img, img_path, IMG_SRC_DIR)\n",
    "        print(\"Cropped: \", str(img_path))\n",
    "print(\"Done cropping\")"
   ]
  }
 ],
 "metadata": {
  "kernelspec": {
   "display_name": "Python 3",
   "language": "python",
   "name": "python3"
  },
  "language_info": {
   "codemirror_mode": {
    "name": "ipython",
    "version": 3
   },
   "file_extension": ".py",
   "mimetype": "text/x-python",
   "name": "python",
   "nbconvert_exporter": "python",
   "pygments_lexer": "ipython3",
   "version": "3.7.3"
  }
 },
 "nbformat": 4,
 "nbformat_minor": 4
}
