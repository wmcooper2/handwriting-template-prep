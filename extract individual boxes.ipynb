{
 "cells": [
  {
   "cell_type": "markdown",
   "metadata": {},
   "source": [
    "How to select a bounding box ( ROI ) in OpenCV (C++/Python):  \n",
    "https://www.learnopencv.com/how-to-select-a-bounding-box-roi-in-opencv-cpp-python/  \n",
    "\n",
    "Convert opencv image to greyscale:  \n",
    "https://techtutorialsx.com/2018/06/02/python-opencv-converting-an-image-to-gray-scale/  \n",
    "\n",
    "Inverting opencv image:  \n",
    "https://stackoverflow.com/questions/19580102/inverting-image-in-python-with-opencv  \n",
    "\n",
    "Find all bounding boxes (didn't work):  \n",
    "https://stackoverflow.com/questions/21104664/extract-all-bounding-boxes-using-opencv-python  \n",
    "\n",
    "Bounding boxes, pyimagesearch.com:  \n",
    "https://www.pyimagesearch.com/2014/04/21/building-pokedex-python-finding-game-boy-screen-step-4-6/  \n"
   ]
  },
  {
   "cell_type": "code",
   "execution_count": 1,
   "metadata": {},
   "outputs": [],
   "source": [
    "# maybe deskew the image?\n",
    "# draw bounding boxes\n",
    "# get contours\n",
    "# slice up boxes"
   ]
  },
  {
   "cell_type": "code",
   "execution_count": 2,
   "metadata": {},
   "outputs": [],
   "source": [
    "from PIL import Image\n",
    "from pathlib import Path\n",
    "from itertools import tee\n",
    "from os import path\n",
    "import cv2\n",
    "import numpy as np\n",
    "import imutils"
   ]
  },
  {
   "cell_type": "code",
   "execution_count": 3,
   "metadata": {},
   "outputs": [],
   "source": [
    "# not used yet...\n",
    "class CroppingTemplate:\n",
    "    def __init__(self):\n",
    "        self.image_file = None  # posix path\n",
    "        self.img = None\n",
    "        self.counter = 1\n",
    "        self.dest_dir = \"./major_pieces\"\n",
    "        \n",
    "        # these are the box boundaries for each section\n",
    "        self.major_sections = [\n",
    "            {\"A\": {\n",
    "                \"left\": blank,\n",
    "                \"top\": 700,\n",
    "                \"right\": 12560,\n",
    "                \"bottom\": 1900}\n",
    "            }\n",
    "        ]\n",
    "\n",
    "    def load(self):\n",
    "        self.img = Image.open(str(self.image_file))\n",
    "\n",
    "    def crop_all2(self):\n",
    "        for section in self.major_sections:\n",
    "            for dir_name, box in section.items():\n",
    "                cropped_img = self.img.crop((box[\"left\"], box[\"top\"], box[\"right\"], box[\"bottom\"]))\n",
    "                file_name = path.join(self.dest_dir, dir_name, str(self.counter)+\".jpg\")\n",
    "                cropped_img.save(file_name)\n",
    "        print(\"Finished: \", self.counter)\n",
    "        self.counter += 1"
   ]
  },
  {
   "cell_type": "code",
   "execution_count": 4,
   "metadata": {},
   "outputs": [],
   "source": [
    "# test_file = \"./major_pieces/uppercase/1.jpg\"\n",
    "test_file = \"small_uppercase.jpg\"\n",
    "\n",
    "# Read image\n",
    "img = cv2.imread(test_file)\n",
    "gray = cv2.cvtColor(img, cv2.COLOR_BGR2GRAY)\n",
    "\n",
    "# bilateralFilter reduces noise while preserving boundaries\n",
    "gray = cv2.bilateralFilter(gray, 11, 17, 17)\n",
    "\n",
    "# invert the image for making bounding boxes\n",
    "inverted = cv2.bitwise_not(gray)\n",
    "\n",
    "# get edges\n",
    "# edged = cv2.Canny(gray, 30, 200)\n",
    "edged = cv2.Canny(inverted, 30, 200)"
   ]
  },
  {
   "cell_type": "code",
   "execution_count": 5,
   "metadata": {},
   "outputs": [],
   "source": [
    "# find contours in the edged image, keep only the largest\n",
    "# ones, and initialize our screen contour\n",
    "cnts = cv2.findContours(edged.copy(), cv2.RETR_TREE, cv2.CHAIN_APPROX_SIMPLE)\n",
    "cnts = imutils.grab_contours(cnts)\n",
    "cnts = sorted(cnts, key = cv2.contourArea, reverse = True)[:10]\n",
    "screenCnt = None"
   ]
  },
  {
   "cell_type": "code",
   "execution_count": 6,
   "metadata": {},
   "outputs": [],
   "source": [
    "# loop over our contours\n",
    "for c in cnts:\n",
    "    # approximate the contour\n",
    "    peri = cv2.arcLength(c, True)\n",
    "    approx = cv2.approxPolyDP(c, 0.015 * peri, True)\n",
    "    # if our approximated contour has four points, then\n",
    "    # we can assume that we have found our screen\n",
    "    if len(approx) == 4:\n",
    "        screenCnt = approx\n",
    "        break"
   ]
  },
  {
   "cell_type": "code",
   "execution_count": null,
   "metadata": {},
   "outputs": [],
   "source": [
    "# cv2.drawContours(img, screenCnt, -1, (0, 255, 0), 3)\n",
    "cv2.drawContours(img, cnts, -1, (0, 255, 0), 1)\n",
    "cv2.imshow(\"Game Boy Screen\", img)\n",
    "cv2.waitKey(0)"
   ]
  }
 ],
 "metadata": {
  "kernelspec": {
   "display_name": "Python 3",
   "language": "python",
   "name": "python3"
  },
  "language_info": {
   "codemirror_mode": {
    "name": "ipython",
    "version": 3
   },
   "file_extension": ".py",
   "mimetype": "text/x-python",
   "name": "python",
   "nbconvert_exporter": "python",
   "pygments_lexer": "ipython3",
   "version": "3.7.3"
  }
 },
 "nbformat": 4,
 "nbformat_minor": 4
}
